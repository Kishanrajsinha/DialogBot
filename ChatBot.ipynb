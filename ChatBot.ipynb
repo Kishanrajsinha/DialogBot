{
  "nbformat": 4,
  "nbformat_minor": 0,
  "metadata": {
    "colab": {
      "provenance": [],
      "gpuType": "T4",
      "authorship_tag": "ABX9TyOVmKoDBfbtoHxWDdV7G5PM",
      "include_colab_link": true
    },
    "kernelspec": {
      "name": "python3",
      "display_name": "Python 3"
    },
    "language_info": {
      "name": "python"
    },
    "gpuClass": "standard"
  },
  "cells": [
    {
      "cell_type": "markdown",
      "metadata": {
        "id": "view-in-github",
        "colab_type": "text"
      },
      "source": [
        "<a href=\"https://colab.research.google.com/github/Kishanrajsinha/DialogBot/blob/master/ChatBot.ipynb\" target=\"_parent\"><img src=\"https://colab.research.google.com/assets/colab-badge.svg\" alt=\"Open In Colab\"/></a>"
      ]
    },
    {
      "cell_type": "code",
      "execution_count": null,
      "metadata": {
        "id": "fM9xb4XT73vz"
      },
      "outputs": [],
      "source": [
        "!pip install transformers\n",
        "from transformers import AutoModelForCausalLM, AutoTokenizer\n",
        "import torch\n",
        "\n",
        "\n",
        "tokenizer = AutoTokenizer.from_pretrained(\"microsoft/DialoGPT-medium\")\n",
        "model = AutoModelForCausalLM.from_pretrained(\"microsoft/DialoGPT-medium\")"
      ]
    },
    {
      "cell_type": "code",
      "source": [
        "! pip install -q gradio\n",
        "import gradio as gr\n",
        "\n",
        "def dialogpt(text):\n",
        "    # encode the new user input, add the eos_token and return a tensor in Pytorch\n",
        "    for step in range(50000):\n",
        "\n",
        "        new_user_input_ids = tokenizer.encode(text + tokenizer.eos_token, return_tensors='pt')\n",
        "\n",
        "        # append the new user input tokens to the chat history\n",
        "        bot_input_ids = torch.cat([chat_history_ids, new_user_input_ids], dim=-1) if step > 0 else new_user_input_ids\n",
        "\n",
        "        # generated a response while limiting the total chat history to 1000 tokens, \n",
        "        chat_history_ids = model.generate(bot_input_ids, max_length=1000, pad_token_id=tokenizer.eos_token_id)\n",
        "\n",
        "        # pretty print last ouput tokens from bot\n",
        "        return tokenizer.decode(chat_history_ids[:, bot_input_ids.shape[-1]:][0], skip_special_tokens=True)\n",
        "\n",
        "inputs = gr.inputs.Textbox(lines=1, label=\"Input Text\")\n",
        "outputs =  gr.outputs.Textbox(label=\"DialoGPT\")\n",
        "\n",
        "\n",
        "gr.Interface(dialogpt, inputs, outputs).launch(debug=True)"
      ],
      "metadata": {
        "id": "ozKysc7O76e5"
      },
      "execution_count": null,
      "outputs": []
    }
  ]
}